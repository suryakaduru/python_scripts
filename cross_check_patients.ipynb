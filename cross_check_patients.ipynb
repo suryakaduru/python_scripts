{
 "cells": [
  {
   "cell_type": "code",
   "execution_count": 8,
   "id": "0db395b1-00bd-4ce6-8a63-236adb92fd3a",
   "metadata": {},
   "outputs": [],
   "source": [
    "import os\n",
    "import csv\n",
    "\n",
    "# specify the path of the parent folder\n",
    "path = r'C:\\Users\\USER\\Downloads\\annotations\\Metro_2022-12-29_cropped'\n",
    "\n",
    "# create a list to store the names of the subfolders\n",
    "names = []\n",
    "\n",
    "# loop through the subfolders in the parent folder\n",
    "for subfolder in os.listdir(path):\n",
    "    # get the name of each subfolder\n",
    "    name = os.path.basename(subfolder)\n",
    "    # add the name to the list\n",
    "    names.append(name)\n",
    "\n",
    "# write the names to a csv file\n",
    "with open('subfolder_names.csv', 'w', newline='') as f:\n",
    "    writer = csv.writer(f)\n",
    "    # omit the header by not writing the first row\n",
    "    for name in names:\n",
    "        writer.writerow([name])\n"
   ]
  },
  {
   "cell_type": "markdown",
   "id": "6dfc9edc-5a7d-46f9-9a76-4a392dafe84f",
   "metadata": {},
   "source": [
    "Use the following command in order to create a list of patients(csv file )\n",
    "- dir /b /ad > subfolder_names.csv\n",
    "\n",
    "\n",
    "example:\n",
    "\n",
    "\n",
    "- Open the Command Prompt (cmd) by typing \"cmd\" in the Windows search bar and hitting enter.\n",
    "- Navigate to the parent folder containing the subfolders by using the \"cd\" command. For example, if the parent folder is on the desktop, you can type \"cd desktop\\parent_folder\".\n",
    "- Run the following command: \"dir /b /ad > subfolder_names.csv\". This will generate a file named \"subfolder_names.csv\" containing a list of subfolder names without a header.\n",
    "\n",
    "\n",
    "#C:\\Users\\USER\\Downloads\\annotations\\Metro_2022-12-29_cropped>dir /b /ad > subfolder_names.csv"
   ]
  },
  {
   "cell_type": "code",
   "execution_count": null,
   "id": "1224fabe-645f-446f-becf-03059f4fb187",
   "metadata": {},
   "outputs": [],
   "source": [
    "#C:\\Users\\USER\\Downloads\\annotations\\Metro_2022-12-29_cropped>dir /b /ad > subfolder_names.csv"
   ]
  },
  {
   "cell_type": "code",
   "execution_count": null,
   "id": "b6d559cc-e4a1-446e-b33b-0e9c38cf5831",
   "metadata": {},
   "outputs": [],
   "source": []
  },
  {
   "cell_type": "code",
   "execution_count": 7,
   "id": "c49768c8-b1c3-4e64-91e0-10c5fd2d8b6a",
   "metadata": {},
   "outputs": [
    {
     "name": "stdout",
     "output_type": "stream",
     "text": [
      "All folders are present in the directory.\n"
     ]
    }
   ],
   "source": [
    "import os\n",
    "import csv\n",
    "\n",
    "def check_missing_folders(directory, folder_list_csv):\n",
    "    missing_folders = []\n",
    "    with open(folder_list_csv, 'r') as f:\n",
    "        reader = csv.reader(f)\n",
    "        folder_list = [row[0] for row in reader]\n",
    "        for folder in folder_list:\n",
    "            folder_path = os.path.join(directory, folder)\n",
    "            if not os.path.isdir(folder_path):\n",
    "                missing_folders.append(folder)\n",
    "    return missing_folders\n",
    "\n",
    "directory = r'C:\\Users\\USER\\Downloads\\annotations\\Metro_2022-12-29_cropped'\n",
    "folder_list_csv = r\"C:\\Users\\USER\\Downloads\\annotations\\Metro_2022-12-29_cropped\\subfolder_names.csv\"\n",
    "\n",
    "missing_folders = check_missing_folders(directory, folder_list_csv)\n",
    "if missing_folders:\n",
    "    print(f'The following folders are missing: {missing_folders}')\n",
    "else:\n",
    "    print('All folders are present in the directory.')\n"
   ]
  },
  {
   "cell_type": "code",
   "execution_count": null,
   "id": "22071060-84ad-4937-ab3c-544ff82f131b",
   "metadata": {},
   "outputs": [],
   "source": []
  }
 ],
 "metadata": {
  "kernelspec": {
   "display_name": "Python 3 (ipykernel)",
   "language": "python",
   "name": "python3"
  },
  "language_info": {
   "codemirror_mode": {
    "name": "ipython",
    "version": 3
   },
   "file_extension": ".py",
   "mimetype": "text/x-python",
   "name": "python",
   "nbconvert_exporter": "python",
   "pygments_lexer": "ipython3",
   "version": "3.9.12"
  }
 },
 "nbformat": 4,
 "nbformat_minor": 5
}
