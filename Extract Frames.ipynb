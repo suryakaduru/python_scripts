{
 "cells": [
  {
   "cell_type": "code",
   "execution_count": 6,
   "id": "86c7e771-02ae-4fd7-b472-3980ea7199da",
   "metadata": {
    "jupyter": {
     "source_hidden": true
    },
    "tags": []
   },
   "outputs": [],
   "source": [
    "import os\n",
    "\n",
    "videoPath = r\"C:\\Users\\USER\\Downloads\\MetroNovCropped\\MetroC\"  # (!!!EDIT THIS!!!) Directory for Directory/Patients/Videos\n",
    "exportPath = \"Extracted\"  # (!!!EDIT THIS!!!) Output Directory\n",
    "\n",
    "for patient in os.listdir(videoPath):  # For Patient in Directory\n",
    "    for idx, crop in enumerate(os.listdir(f\"{videoPath}/{patient}\")):  # For Video in Patient\n",
    "        cropVideo = f\"{videoPath}/{patient}/{crop}\"\n",
    "        extractedPNG = f\"{exportPath}/{patient}_{idx}/frame%04d.png\"\n",
    "\n",
    "        os.mkdir(f\"{exportPath}/{patient}_{idx}\")\n",
    "        os.system(f\"ffmpeg -i {cropVideo} {extractedPNG}\")\n"
   ]
  },
  {
   "cell_type": "code",
   "execution_count": null,
   "id": "3bb7a082-5a0d-4085-8f81-939c6c00ca79",
   "metadata": {},
   "outputs": [
    {
     "name": "stdout",
     "output_type": "stream",
     "text": [
      "start_time: 10:44:32.109616\n",
      "Loading Videos from current Batch\n",
      "Begining Frame Extraction >>>>>>>>\n",
      "patient set:A04183\n",
      "**********************************************\n",
      "Extracting Frames from: A04183\n"
     ]
    }
   ],
   "source": [
    "import os\n",
    "from datetime import datetime\n",
    "\n",
    "Batch=r'F:\\Metro_surya'\n",
    "\n",
    "start_time = datetime.now().time() # time object\n",
    "\n",
    "Export=r\"F:\\extracted_frames\"\n",
    "print(\"start_time:\",start_time)\n",
    "print(\"Loading Videos from current Batch\")\n",
    "print(\"Begining Frame Extraction >>>>>>>>\")\n",
    "for patient in os.listdir(f'{Batch}'):\n",
    "\n",
    "    print(\"patient set:\"+ patient)\n",
    "    print(\"**********************************************\")\n",
    "    print(\"Extracting Frames from:\",patient)\n",
    "    for idx,crop in enumerate(os.listdir(f'{Batch}/{patient}')):\n",
    "        cropVideo = f\"{Batch}/{patient}/{crop}\"\n",
    "        extractedPNG = f\"{Export}/{patient}_{idx}/frame%04d.png\"\n",
    "        os.mkdir(f\"{Export}/{patient}_{idx}\")\n",
    "        os.system(f\"ffmpeg -i {cropVideo} {extractedPNG}\")\n",
    "\n",
    "#print(\"End_time:\"+\" \"+End_time)\n",
    "print(\"Frame Extraction completed\")\n",
    "End_time = datetime.now().time()\n",
    "print(\"End_time:\",End_time)"
   ]
  },
  {
   "cell_type": "code",
   "execution_count": null,
   "id": "c67ad70d-9aa0-46d0-94b0-c2885c6a26e4",
   "metadata": {},
   "outputs": [],
   "source": []
  },
  {
   "cell_type": "code",
   "execution_count": null,
   "id": "a165dff4-d858-4459-8b75-ae0ea69c70a3",
   "metadata": {},
   "outputs": [],
   "source": []
  }
 ],
 "metadata": {
  "kernelspec": {
   "display_name": "Python 3 (ipykernel)",
   "language": "python",
   "name": "python3"
  },
  "language_info": {
   "codemirror_mode": {
    "name": "ipython",
    "version": 3
   },
   "file_extension": ".py",
   "mimetype": "text/x-python",
   "name": "python",
   "nbconvert_exporter": "python",
   "pygments_lexer": "ipython3",
   "version": "3.9.12"
  }
 },
 "nbformat": 4,
 "nbformat_minor": 5
}
