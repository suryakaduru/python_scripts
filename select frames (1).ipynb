{
 "cells": [
  {
   "cell_type": "code",
   "execution_count": 1,
   "id": "1455e2cd",
   "metadata": {},
   "outputs": [],
   "source": [
    "import pandas as pd\n",
    "import os, sys\n",
    "import numpy as np\n",
    "#import re \n",
    "import shutil"
   ]
  },
  {
   "cell_type": "code",
   "execution_count": 2,
   "id": "cfbedc43",
   "metadata": {},
   "outputs": [
    {
     "name": "stdout",
     "output_type": "stream",
     "text": [
      "frame14613.png\n",
      "frame14545.png\n",
      "frame14325.png\n",
      "frame12210.png\n",
      "frame12197.png\n",
      "frame11981.png\n",
      "frame11943.png\n",
      "frame11941.png\n",
      "frame11672.png\n",
      "frame11640.png\n",
      "frame11358.png\n",
      "frame11220.png\n",
      "frame11186.png\n",
      "frame10832.png\n",
      "frame10770.png\n",
      "frame10742.png\n",
      "frame10167.png\n",
      "frame9825.png\n",
      "frame9380.png\n",
      "frame8575.png\n",
      "frame7368.png\n",
      "frame7321.png\n",
      "frame5902.png\n",
      "frame5125.png\n",
      "frame4875.png\n",
      "frame4346.png\n",
      "frame3415.png\n"
     ]
    }
   ],
   "source": [
    "polyp_set = 'C00825' #just demo please use real id later\n",
    "data = pd.read_table(r\"C:\\Users\\USER\\Downloads\\index_2022\\C00825_0.txt\", header=None)\n",
    "\n",
    "\n",
    "if os.path.exists(f\"C:\\\\Users\\\\USER\\\\Downloads\\\\M_2022-09-14_video_clip\\\\{polyp_set}\\\\C00825_0_SF\") is False:\n",
    "    os.makedirs(f\"C:\\\\Users\\\\USER\\\\Downloads\\\\M_2022-09-14_video_clip\\\\{polyp_set}\\\\C00825_0_SF\")\n",
    "\n",
    "for i in data.values:\n",
    "    index = i[0]\n",
    "    print(f'frame{str(index).zfill(4)}.png')\n",
    "    while os.path.exists(f\"C:\\\\Users\\\\USER\\\\Downloads\\\\M_2022-09-14_video_clip\\\\{polyp_set}\\\\C00825_0_SF\\\\frame{str(index).zfill(4)}.png\") is False:\n",
    "        os.link(f\"C:\\\\Users\\\\USER\\\\Downloads\\\\M_2022-09-14_video_clip\\\\{polyp_set}\\\\C00825_0\\\\frame{str(index).zfill(4)}.png\", \n",
    "                f\"C:\\\\Users\\\\USER\\\\Downloads\\\\M_2022-09-14_video_clip\\\\{polyp_set}\\\\C00825_0_SF\\\\frame{str(index).zfill(4)}.png\")\n",
    "        \n",
    "        \n",
    "#  C:\\Users\\USER\\Downloads\\M_2021-08-18\\B96970\\EXT_B96970"
   ]
  },
  {
   "cell_type": "code",
   "execution_count": 12,
   "id": "4162080a",
   "metadata": {},
   "outputs": [
    {
     "name": "stdout",
     "output_type": "stream",
     "text": [
      "frame4960.png\n",
      "frame4806.png\n",
      "frame4750.png\n",
      "frame4644.png\n",
      "frame4427.png\n",
      "frame4322.png\n",
      "frame4127.png\n",
      "frame4065.png\n",
      "frame3973.png\n",
      "frame3890.png\n",
      "frame3837.png\n",
      "frame3784.png\n",
      "frame3702.png\n",
      "frame3660.png\n",
      "frame2907.png\n",
      "frame2814.png\n",
      "frame2411.png\n",
      "frame2563.png\n",
      "frame2165.png\n",
      "frame2097.png\n",
      "frame1847.png\n",
      "frame1608.png\n",
      "frame0856.png\n",
      "frame0036.png\n",
      "frame0004.png\n"
     ]
    }
   ],
   "source": [
    "polyp_set = 'B74570' #just demo please use real id later\n",
    "data = pd.read_table(\"B74570_3 INDEX.txt\", header=None)\n",
    "\n",
    "\n",
    "#F:\\B74570\n",
    "#3F:\\B74570\\EXT_B74570_0\n",
    "\n",
    "if os.path.exists(f\"F:\\\\{polyp_set}\\\\selected_3\") is False:\n",
    "    os.makedirs(f\"F:/B74570/selected_3\")\n",
    "\n",
    "for i in data.values:\n",
    "    index = i[0]\n",
    "    print(f'frame{str(index).zfill(4)}.png')\n",
    "    while os.path.exists(f\"F:/B74570/selected_3/frame{str(index).zfill(4)}.png\") is False:\n",
    "        os.link(f\"F:/B74570/EXT_B74570_3/frame{str(index).zfill(4)}.png\", \n",
    "                f\"F:/B74570/selected_3/frame{str(index).zfill(4)}.png\")\n",
    "        \n",
    "        \n",
    "      #  C:\\Users\\USER\\Downloads\\M_2021-08-18\\B96970\\EXT_B96970"
   ]
  },
  {
   "cell_type": "code",
   "execution_count": 5,
   "id": "cee4c377",
   "metadata": {},
   "outputs": [
    {
     "name": "stdout",
     "output_type": "stream",
     "text": [
      "frame5281.png\n"
     ]
    },
    {
     "ename": "FileNotFoundError",
     "evalue": "[WinError 3] The system cannot find the path specified: 'C:\\\\Users\\\\USER\\\\Downloads\\\\M_2021-08-18\\\\A32553\\\\A06228_EXT\\\\frames5281.png' -> 'C:\\\\Users\\\\USER\\\\Downloads\\\\M_2021-08-18\\\\A32553\\\\selected\\\\frames5281.png'",
     "output_type": "error",
     "traceback": [
      "\u001b[1;31m---------------------------------------------------------------------------\u001b[0m",
      "\u001b[1;31mFileNotFoundError\u001b[0m                         Traceback (most recent call last)",
      "Input \u001b[1;32mIn [5]\u001b[0m, in \u001b[0;36m<cell line: 7>\u001b[1;34m()\u001b[0m\n\u001b[0;32m      9\u001b[0m \u001b[38;5;28mprint\u001b[39m(\u001b[38;5;124mf\u001b[39m\u001b[38;5;124m'\u001b[39m\u001b[38;5;124mframe\u001b[39m\u001b[38;5;132;01m{\u001b[39;00m\u001b[38;5;28mstr\u001b[39m(index)\u001b[38;5;241m.\u001b[39mzfill(\u001b[38;5;241m4\u001b[39m)\u001b[38;5;132;01m}\u001b[39;00m\u001b[38;5;124m.png\u001b[39m\u001b[38;5;124m'\u001b[39m)\n\u001b[0;32m     10\u001b[0m \u001b[38;5;28;01mwhile\u001b[39;00m os\u001b[38;5;241m.\u001b[39mpath\u001b[38;5;241m.\u001b[39mexists(\u001b[38;5;124mf\u001b[39m\u001b[38;5;124m\"\u001b[39m\u001b[38;5;124mC:\u001b[39m\u001b[38;5;130;01m\\\\\u001b[39;00m\u001b[38;5;124mUsers\u001b[39m\u001b[38;5;130;01m\\\\\u001b[39;00m\u001b[38;5;124mUSER\u001b[39m\u001b[38;5;130;01m\\\\\u001b[39;00m\u001b[38;5;124mDownloads\u001b[39m\u001b[38;5;130;01m\\\\\u001b[39;00m\u001b[38;5;124mM_2021-08-18\u001b[39m\u001b[38;5;130;01m\\\\\u001b[39;00m\u001b[38;5;132;01m{\u001b[39;00mpolyp_set\u001b[38;5;132;01m}\u001b[39;00m\u001b[38;5;130;01m\\\\\u001b[39;00m\u001b[38;5;124mselected\u001b[39m\u001b[38;5;130;01m\\\\\u001b[39;00m\u001b[38;5;124mframes\u001b[39m\u001b[38;5;132;01m{\u001b[39;00m\u001b[38;5;28mstr\u001b[39m(index)\u001b[38;5;241m.\u001b[39mzfill(\u001b[38;5;241m4\u001b[39m)\u001b[38;5;132;01m}\u001b[39;00m\u001b[38;5;124m.png\u001b[39m\u001b[38;5;124m\"\u001b[39m) \u001b[38;5;129;01mis\u001b[39;00m \u001b[38;5;28;01mFalse\u001b[39;00m:\n\u001b[1;32m---> 11\u001b[0m     \u001b[43mos\u001b[49m\u001b[38;5;241;43m.\u001b[39;49m\u001b[43mlink\u001b[49m\u001b[43m(\u001b[49m\u001b[38;5;124;43mf\u001b[39;49m\u001b[38;5;124;43m\"\u001b[39;49m\u001b[38;5;124;43mC:\u001b[39;49m\u001b[38;5;130;43;01m\\\\\u001b[39;49;00m\u001b[38;5;124;43mUsers\u001b[39;49m\u001b[38;5;130;43;01m\\\\\u001b[39;49;00m\u001b[38;5;124;43mUSER\u001b[39;49m\u001b[38;5;130;43;01m\\\\\u001b[39;49;00m\u001b[38;5;124;43mDownloads\u001b[39;49m\u001b[38;5;130;43;01m\\\\\u001b[39;49;00m\u001b[38;5;124;43mM_2021-08-18\u001b[39;49m\u001b[38;5;130;43;01m\\\\\u001b[39;49;00m\u001b[38;5;132;43;01m{\u001b[39;49;00m\u001b[43mpolyp_set\u001b[49m\u001b[38;5;132;43;01m}\u001b[39;49;00m\u001b[38;5;130;43;01m\\\\\u001b[39;49;00m\u001b[38;5;124;43mA06228_EXT\u001b[39;49m\u001b[38;5;130;43;01m\\\\\u001b[39;49;00m\u001b[38;5;124;43mframes\u001b[39;49m\u001b[38;5;132;43;01m{\u001b[39;49;00m\u001b[38;5;28;43mstr\u001b[39;49m\u001b[43m(\u001b[49m\u001b[43mindex\u001b[49m\u001b[43m)\u001b[49m\u001b[38;5;241;43m.\u001b[39;49m\u001b[43mzfill\u001b[49m\u001b[43m(\u001b[49m\u001b[38;5;241;43m4\u001b[39;49m\u001b[43m)\u001b[49m\u001b[38;5;132;43;01m}\u001b[39;49;00m\u001b[38;5;124;43m.png\u001b[39;49m\u001b[38;5;124;43m\"\u001b[39;49m\u001b[43m,\u001b[49m\u001b[43m \u001b[49m\n\u001b[0;32m     12\u001b[0m \u001b[43m            \u001b[49m\u001b[38;5;124;43mf\u001b[39;49m\u001b[38;5;124;43m\"\u001b[39;49m\u001b[38;5;124;43mC:\u001b[39;49m\u001b[38;5;130;43;01m\\\\\u001b[39;49;00m\u001b[38;5;124;43mUsers\u001b[39;49m\u001b[38;5;130;43;01m\\\\\u001b[39;49;00m\u001b[38;5;124;43mUSER\u001b[39;49m\u001b[38;5;130;43;01m\\\\\u001b[39;49;00m\u001b[38;5;124;43mDownloads\u001b[39;49m\u001b[38;5;130;43;01m\\\\\u001b[39;49;00m\u001b[38;5;124;43mM_2021-08-18\u001b[39;49m\u001b[38;5;130;43;01m\\\\\u001b[39;49;00m\u001b[38;5;132;43;01m{\u001b[39;49;00m\u001b[43mpolyp_set\u001b[49m\u001b[38;5;132;43;01m}\u001b[39;49;00m\u001b[38;5;130;43;01m\\\\\u001b[39;49;00m\u001b[38;5;124;43mselected\u001b[39;49m\u001b[38;5;130;43;01m\\\\\u001b[39;49;00m\u001b[38;5;124;43mframes\u001b[39;49m\u001b[38;5;132;43;01m{\u001b[39;49;00m\u001b[38;5;28;43mstr\u001b[39;49m\u001b[43m(\u001b[49m\u001b[43mindex\u001b[49m\u001b[43m)\u001b[49m\u001b[38;5;241;43m.\u001b[39;49m\u001b[43mzfill\u001b[49m\u001b[43m(\u001b[49m\u001b[38;5;241;43m4\u001b[39;49m\u001b[43m)\u001b[49m\u001b[38;5;132;43;01m}\u001b[39;49;00m\u001b[38;5;124;43m.png\u001b[39;49m\u001b[38;5;124;43m\"\u001b[39;49m\u001b[43m)\u001b[49m\n",
      "\u001b[1;31mFileNotFoundError\u001b[0m: [WinError 3] The system cannot find the path specified: 'C:\\\\Users\\\\USER\\\\Downloads\\\\M_2021-08-18\\\\A32553\\\\A06228_EXT\\\\frames5281.png' -> 'C:\\\\Users\\\\USER\\\\Downloads\\\\M_2021-08-18\\\\A32553\\\\selected\\\\frames5281.png'"
     ]
    }
   ],
   "source": [
    "# Certain indices\n",
    "polyp_set = 'A32553' #just demo please use real id later\n",
    "data = pd.read_table(\"A32553_0 INDEX.txt\", header=None)\n",
    "if os.path.exists(f\"C:\\\\Users\\\\USER\\\\Downloads\\\\M_2021-08-18\\\\{polyp_set}\\\\selected\") is False:\n",
    "    os.makedirs(f\"C:\\\\Users\\\\USER\\\\Downloads\\\\M_2021-08-18\\\\{polyp_set}\\\\selected\")\n",
    "   #C:\\Users\\USER\\Downloads\\M_2021-08-18\\A06228\n",
    "for i in data.values:\n",
    "    index = i[0]\n",
    "    print(f'frame{str(index).zfill(4)}.png')\n",
    "    while os.path.exists(f\"C:\\\\Users\\\\USER\\\\Downloads\\\\M_2021-08-18\\\\{polyp_set}\\\\selected\\\\frames{str(index).zfill(4)}.png\") is False:\n",
    "        os.link(f\"C:\\\\Users\\\\USER\\\\Downloads\\\\M_2021-08-18\\\\{polyp_set}\\\\A06228_EXT\\\\frames{str(index).zfill(4)}.png\", \n",
    "                f\"C:\\\\Users\\\\USER\\\\Downloads\\\\M_2021-08-18\\\\{polyp_set}\\\\selected\\\\frames{str(index).zfill(4)}.png\")\n",
    "      #  C:\\Users\\USER\\Downloads\\M_2021-08-18\\A06228\\A06228_EXT"
   ]
  },
  {
   "cell_type": "markdown",
   "id": "7c7cb7e6",
   "metadata": {},
   "source": [
    "### moving files to 03_extracted directory"
   ]
  },
  {
   "cell_type": "code",
   "execution_count": 5,
   "id": "82e6fe96",
   "metadata": {},
   "outputs": [
    {
     "ename": "OSError",
     "evalue": "[WinError 123] The filename, directory name, or volume label syntax is incorrect: 'C:\\\\Users\\\\USER\\\\Documents\\\\Drive\\\\04_annotation\\\\00_original\\\\Metro_2022-04-01\\\\A24167_0' -> 'C:\\\\Users\\\\USER\\\\Downloads\\\\nisi-video-a\"nnotator v1.1 (archive)\\\\assets\\\\images\\\\test'",
     "output_type": "error",
     "traceback": [
      "\u001b[1;31m---------------------------------------------------------------------------\u001b[0m",
      "\u001b[1;31mOSError\u001b[0m                                   Traceback (most recent call last)",
      "Input \u001b[1;32mIn [5]\u001b[0m, in \u001b[0;36m<cell line: 9>\u001b[1;34m()\u001b[0m\n\u001b[0;32m      6\u001b[0m source \u001b[38;5;241m=\u001b[39m \u001b[38;5;124mr\u001b[39m\u001b[38;5;124m'\u001b[39m\u001b[38;5;124mC:\u001b[39m\u001b[38;5;124m\\\u001b[39m\u001b[38;5;124mUsers\u001b[39m\u001b[38;5;124m\\\u001b[39m\u001b[38;5;124mUSER\u001b[39m\u001b[38;5;124m\\\u001b[39m\u001b[38;5;124mDocuments\u001b[39m\u001b[38;5;124m\\\u001b[39m\u001b[38;5;124mDrive\u001b[39m\u001b[38;5;124m\\\u001b[39m\u001b[38;5;124m04_annotation\u001b[39m\u001b[38;5;124m\\\u001b[39m\u001b[38;5;124m00_original\u001b[39m\u001b[38;5;124m\\\u001b[39m\u001b[38;5;124mMetro_2022-04-01\u001b[39m\u001b[38;5;124m\\\u001b[39m\u001b[38;5;124mA24167_0\u001b[39m\u001b[38;5;124m'\u001b[39m\n\u001b[0;32m      7\u001b[0m destination \u001b[38;5;241m=\u001b[39m \u001b[38;5;124mr\u001b[39m\u001b[38;5;124m'\u001b[39m\u001b[38;5;124mC:\u001b[39m\u001b[38;5;124m\\\u001b[39m\u001b[38;5;124mUsers\u001b[39m\u001b[38;5;124m\\\u001b[39m\u001b[38;5;124mUSER\u001b[39m\u001b[38;5;124m\\\u001b[39m\u001b[38;5;124mDownloads\u001b[39m\u001b[38;5;124m\\\u001b[39m\u001b[38;5;124mnisi-video-a\u001b[39m\u001b[38;5;124m\"\u001b[39m\u001b[38;5;124mnnotator v1.1 (archive)\u001b[39m\u001b[38;5;124m\\\u001b[39m\u001b[38;5;124massets\u001b[39m\u001b[38;5;124m\\\u001b[39m\u001b[38;5;124mimages\u001b[39m\u001b[38;5;124m\\\u001b[39m\u001b[38;5;124mtest\u001b[39m\u001b[38;5;124m'\u001b[39m\n\u001b[1;32m----> 9\u001b[0m destination \u001b[38;5;241m=\u001b[39m \u001b[43mos\u001b[49m\u001b[38;5;241;43m.\u001b[39;49m\u001b[43mlink\u001b[49m\u001b[43m(\u001b[49m\u001b[43msource\u001b[49m\u001b[43m,\u001b[49m\u001b[43m \u001b[49m\u001b[43mdestination\u001b[49m\u001b[43m)\u001b[49m\n",
      "\u001b[1;31mOSError\u001b[0m: [WinError 123] The filename, directory name, or volume label syntax is incorrect: 'C:\\\\Users\\\\USER\\\\Documents\\\\Drive\\\\04_annotation\\\\00_original\\\\Metro_2022-04-01\\\\A24167_0' -> 'C:\\\\Users\\\\USER\\\\Downloads\\\\nisi-video-a\"nnotator v1.1 (archive)\\\\assets\\\\images\\\\test'"
     ]
    }
   ],
   "source": [
    "#for copying files from one directory to another directory\n",
    "\n",
    "#from selected frames to 03_extracted\n",
    "\n",
    "\n",
    "source = r'C:\\Users\\USER\\Documents\\Drive\\04_annotation\\00_original\\Metro_2022-04-01\\A24167_0'\n",
    "destination = r'C:\\Users\\USER\\Downloads\\nisi-video-a\"nnotator v1.1 (archive)\\assets\\images\\test'\n",
    "\n",
    "destination = os.link(source, destination)"
   ]
  },
  {
   "cell_type": "markdown",
   "id": "2bf4af8b",
   "metadata": {},
   "source": [
    "### For Rename.py"
   ]
  },
  {
   "cell_type": "code",
   "execution_count": 2,
   "id": "6eb03418",
   "metadata": {},
   "outputs": [],
   "source": [
    "import os\n",
    "selected_path = r\"C:\\Users\\USER\\Desktop\\192132_0\"\n",
    "def to_num(name):\n",
    "    num_str = ''.join([c for c in name if c in '0123456789'])\n",
    "    return int(num_str)\n",
    "\n",
    "#print(os.listdir(selected_path))\n",
    "\n",
    "selected_frames = [r for r in os.listdir(selected_path) if '.png' in r]\n",
    "selected_frames.sort(key=to_num)\n",
    "\n",
    "count = 1\n",
    "for frame in selected_frames:\n",
    "    os.rename(os.path.join(selected_path, frame), os.path.join(selected_path, f\"image{count}.png\"))\n",
    "    count = count + 1"
   ]
  },
  {
   "cell_type": "code",
   "execution_count": null,
   "id": "1d1b1f55",
   "metadata": {},
   "outputs": [],
   "source": []
  },
  {
   "cell_type": "code",
   "execution_count": null,
   "id": "e9aac687",
   "metadata": {},
   "outputs": [],
   "source": [
    "# Addition Certain indices\n",
    "polyp_set = 'A11691_0'\n",
    "data = pd.read_table(\"index.txt\", header=None)\n",
    "if os.path.exists(f\"C:\\\\Users\\\\xingq\\\\Pictures\\\\selected\\\\{polyp_set}\") is False:\n",
    "    os.makedirs(f\"C:\\\\Users\\\\xingq\\\\Pictures\\\\selected\\\\{polyp_set}\")\n",
    "for i in data.values:\n",
    "    index = i[0]\n",
    "    print(f'grame{str(index).zfill(4)}.png')\n",
    "    while os.path.exists(f\"C:\\\\Users\\\\xingq\\\\Pictures\\\\selected\\\\{polyp_set}\\\\grame{str(index).zfill(4)}.png\") is False:\n",
    "        os.link(f\"C:\\\\Users\\\\xingq\\\\Pictures\\\\20211129\\\\addition\\\\grame{str(index).zfill(4)}.png\", \n",
    "                f\"C:\\\\Users\\\\xingq\\\\Pictures\\\\selected\\\\{polyp_set}\\\\grame{str(index).zfill(4)}.png\")"
   ]
  },
  {
   "cell_type": "code",
   "execution_count": null,
   "id": "7e76c1b5",
   "metadata": {},
   "outputs": [],
   "source": [
    "# Series initialization\n",
    "polyp_set = 'A07715_0'\n",
    "x = np.arange(1874, 5400, 30)\n",
    "if os.path.exists(f\"C:\\\\Users\\\\xingq\\\\Pictures\\\\selected\\\\{polyp_set}\") is False:\n",
    "    os.makedirs(f\"C:\\\\Users\\\\xingq\\\\Pictures\\\\selected\\\\{polyp_set}\")\n",
    "for i in x:\n",
    "    print(f'frame{str(i).zfill(4)}.png')\n",
    "    while os.path.exists(f\"C:\\\\Users\\\\xingq\\\\Pictures\\\\selected\\\\{polyp_set}\\\\frame{str(i).zfill(4)}.png\") is False:\n",
    "        os.link(f\"C:\\\\Users\\\\xingq\\\\Pictures\\\\20211129\\\\{polyp_set}\\\\frame{str(i).zfill(4)}.png\", \n",
    "                f\"C:\\\\Users\\\\xingq\\\\Pictures\\\\selected\\\\{polyp_set}\\\\frame{str(i).zfill(4)}.png\")"
   ]
  },
  {
   "cell_type": "code",
   "execution_count": null,
   "id": "1e86859b",
   "metadata": {},
   "outputs": [],
   "source": [
    "# Random number\n",
    "import random\n",
    "import os, sys\n",
    "random.sample(os.listdir('\\\\\\\\FILESERVER\\\\Shared\\\\Video\\\\04_annotation\\\\00_original\\\\Metro_2021-11-29'), 7)"
   ]
  }
 ],
 "metadata": {
  "kernelspec": {
   "display_name": "Python 3 (ipykernel)",
   "language": "python",
   "name": "python3"
  },
  "language_info": {
   "codemirror_mode": {
    "name": "ipython",
    "version": 3
   },
   "file_extension": ".py",
   "mimetype": "text/x-python",
   "name": "python",
   "nbconvert_exporter": "python",
   "pygments_lexer": "ipython3",
   "version": "3.9.12"
  }
 },
 "nbformat": 4,
 "nbformat_minor": 5
}
