{
 "cells": [
  {
   "cell_type": "code",
   "execution_count": 182,
   "id": "0cce16dd-ca5d-436a-b1d5-5630c60104a7",
   "metadata": {},
   "outputs": [],
   "source": [
    "import os \n",
    "root_dir='Downloads/'\n",
    "polyp_path = root_dir+'/polyp'\n",
    "non_polyp=root_dir+'/non-polyp'\n",
    "\n",
    "try: \n",
    "    os.mkdir(polyp_path)\n",
    "    os.mkdir(non_polyp)\n",
    "except OSError as error: \n",
    "    pass"
   ]
  },
  {
   "cell_type": "code",
   "execution_count": 183,
   "id": "da6fb175-1f20-4fb2-97dc-b8ac837d0d62",
   "metadata": {},
   "outputs": [],
   "source": [
    "import shutil\n",
    "source_path='Downloads/videos/M_2021-08-18/A02315/crop0_renamed/'"
   ]
  },
  {
   "cell_type": "code",
   "execution_count": 186,
   "id": "dc80bc6f-55f1-41c4-8d89-e04391cb7cda",
   "metadata": {},
   "outputs": [],
   "source": [
    "import os\n",
    "def rename_files():\n",
    "    try:\n",
    "        folder = r'Downloads/videos/M_2021-08-18/A02315/crop0_extracted/'\n",
    "        count = 1\n",
    "        for file_name in os.listdir(folder):\n",
    "            source = folder + file_name\n",
    "            dest='Downloads/videos/M_2021-08-18/A02315/crop0_renamed/'\n",
    "            destination = dest + \"frame\" + str(count) + \".png\"\n",
    "            os.rename(source, destination)\n",
    "            count += 1\n",
    "        print('All Files Renamed')\n",
    "    except FileExistsError:\n",
    "        pass"
   ]
  },
  {
   "cell_type": "code",
   "execution_count": 187,
   "id": "2b123b20-40c2-4178-9f1b-3637e41c9d00",
   "metadata": {},
   "outputs": [],
   "source": [
    "rename_files()"
   ]
  },
  {
   "cell_type": "code",
   "execution_count": 194,
   "id": "20095994-dc0a-4457-8417-655c09512abb",
   "metadata": {},
   "outputs": [],
   "source": [
    "def move_to_polyp():\n",
    "    frame_no=int(input())\n",
    "    source_path_1='Downloads/videos/M_2021-08-18/A02315/crop0_renamed/'\n",
    "    #sorce_path_2='Downloads/videos/M_2021-08-18/A02315/crop0_renamed/'\n",
    "    dest='Downloads/polyp/'\n",
    "    frame_name='frame'+str(frame_no)+'.png'\n",
    "    source_path_2=source_path_1+frame_name\n",
    "   # print(source_path_2)\n",
    "    dest=dest+frame_name\n",
    "   # print(dest)\n",
    "    shutil.copy2(source_path_2, dest)"
   ]
  },
  {
   "cell_type": "code",
   "execution_count": 195,
   "id": "8a5ccb20-e5ec-4867-bfb2-2fe4c5e17009",
   "metadata": {},
   "outputs": [
    {
     "name": "stdin",
     "output_type": "stream",
     "text": [
      " 13\n"
     ]
    }
   ],
   "source": [
    "move_to_polyp()"
   ]
  },
  {
   "cell_type": "code",
   "execution_count": 196,
   "id": "361d29dd-c499-4691-97e8-b81fe7f0d84a",
   "metadata": {},
   "outputs": [],
   "source": [
    "# reading files names of polyp and saving them in text file \n",
    "def read_files():\n",
    "    files=os.listdir('Downloads/polyp')\n",
    "    with open('list.txt', 'w') as filehandle:\n",
    "        for listitem in files:\n",
    "            filehandle.write('%s\\n' % listitem)"
   ]
  },
  {
   "cell_type": "code",
   "execution_count": 197,
   "id": "3f28731a-f657-45b8-8c1b-d624d7c3832f",
   "metadata": {},
   "outputs": [],
   "source": [
    "read_files()"
   ]
  },
  {
   "cell_type": "code",
   "execution_count": 206,
   "id": "b69dc4ec-cf8c-4625-80b0-203c43925e21",
   "metadata": {},
   "outputs": [],
   "source": [
    "def move_to_non_polyp():\n",
    "    # gathering indexes file\n",
    "    file='C:/Users/user/list.txt'\n",
    "    source_path_1='Downloads/videos/M_2021-08-18/A02315/crop0_renamed/'\n",
    "    dest='Downloads/non-polyp/'\n",
    "    index_file = open(file,\"r\")\n",
    "    polyp=[]\n",
    "    Lines = index_file.readlines()\n",
    "    for line in Lines:\n",
    "        line=line.strip()\n",
    "        polyp.append(line)\n",
    "    #print(polyp)\n",
    "    files=os.listdir(source_path)\n",
    "    polyp=set(polyp)\n",
    "    files=set(files)\n",
    "    set_difference = files-polyp\n",
    "    #print(set_difference)\n",
    "    for i in set_difference:\n",
    "        if i=='frame13.png':\n",
    "            print('killer')\n",
    "        source_path_2=source_path_1+i\n",
    "        dest=dest\n",
    "        shutil.copy2(source_path_2, dest)"
   ]
  },
  {
   "cell_type": "code",
   "execution_count": 207,
   "id": "fe4490d8-6a79-4e4a-a26a-54cbc2a9c438",
   "metadata": {},
   "outputs": [
    {
     "name": "stdout",
     "output_type": "stream",
     "text": [
      "CPU times: total: 10.3 s\n",
      "Wall time: 23.2 s\n"
     ]
    }
   ],
   "source": [
    "%%time\n",
    "move_to_non_polyp()"
   ]
  },
  {
   "cell_type": "code",
   "execution_count": null,
   "id": "e220205f-d9dd-48b8-9022-07aff0d1faff",
   "metadata": {},
   "outputs": [],
   "source": []
  }
 ],
 "metadata": {
  "kernelspec": {
   "display_name": "Python 3 (ipykernel)",
   "language": "python",
   "name": "python3"
  },
  "language_info": {
   "codemirror_mode": {
    "name": "ipython",
    "version": 3
   },
   "file_extension": ".py",
   "mimetype": "text/x-python",
   "name": "python",
   "nbconvert_exporter": "python",
   "pygments_lexer": "ipython3",
   "version": "3.9.12"
  }
 },
 "nbformat": 4,
 "nbformat_minor": 5
}
